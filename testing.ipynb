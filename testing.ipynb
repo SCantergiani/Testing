{
 "cells": [
  {
   "cell_type": "code",
   "execution_count": 9,
   "metadata": {},
   "outputs": [],
   "source": [
    "import pandas as pd\n",
    "\n",
    "data = pd.read_parquet('data/meteorologia_2021_2023.parquet')"
   ]
  },
  {
   "cell_type": "code",
   "execution_count": 10,
   "metadata": {},
   "outputs": [
    {
     "data": {
      "text/html": [
       "<div>\n",
       "<style scoped>\n",
       "    .dataframe tbody tr th:only-of-type {\n",
       "        vertical-align: middle;\n",
       "    }\n",
       "\n",
       "    .dataframe tbody tr th {\n",
       "        vertical-align: top;\n",
       "    }\n",
       "\n",
       "    .dataframe thead th {\n",
       "        text-align: right;\n",
       "    }\n",
       "</style>\n",
       "<table border=\"1\" class=\"dataframe\">\n",
       "  <thead>\n",
       "    <tr style=\"text-align: right;\">\n",
       "      <th></th>\n",
       "      <th>date</th>\n",
       "      <th>wind_direction</th>\n",
       "      <th>rain</th>\n",
       "      <th>scaled_series_solar_radiation</th>\n",
       "      <th>temperature</th>\n",
       "      <th>Rh</th>\n",
       "    </tr>\n",
       "  </thead>\n",
       "  <tbody>\n",
       "    <tr>\n",
       "      <th>0</th>\n",
       "      <td>2021-01-01</td>\n",
       "      <td>144.846528</td>\n",
       "      <td>0.000158</td>\n",
       "      <td>129.616667</td>\n",
       "      <td>7.980080</td>\n",
       "      <td>65.526720</td>\n",
       "    </tr>\n",
       "    <tr>\n",
       "      <th>1</th>\n",
       "      <td>2021-01-02</td>\n",
       "      <td>175.859722</td>\n",
       "      <td>0.000000</td>\n",
       "      <td>129.602194</td>\n",
       "      <td>6.946224</td>\n",
       "      <td>67.800114</td>\n",
       "    </tr>\n",
       "    <tr>\n",
       "      <th>2</th>\n",
       "      <td>2021-01-03</td>\n",
       "      <td>180.373611</td>\n",
       "      <td>0.000000</td>\n",
       "      <td>227.755062</td>\n",
       "      <td>6.939307</td>\n",
       "      <td>61.903528</td>\n",
       "    </tr>\n",
       "    <tr>\n",
       "      <th>3</th>\n",
       "      <td>2021-01-04</td>\n",
       "      <td>200.979861</td>\n",
       "      <td>0.000000</td>\n",
       "      <td>242.225806</td>\n",
       "      <td>4.731242</td>\n",
       "      <td>46.378567</td>\n",
       "    </tr>\n",
       "    <tr>\n",
       "      <th>4</th>\n",
       "      <td>2021-01-05</td>\n",
       "      <td>208.151389</td>\n",
       "      <td>0.000950</td>\n",
       "      <td>180.780569</td>\n",
       "      <td>3.237838</td>\n",
       "      <td>61.608756</td>\n",
       "    </tr>\n",
       "  </tbody>\n",
       "</table>\n",
       "</div>"
      ],
      "text/plain": [
       "        date  wind_direction      rain  scaled_series_solar_radiation  \\\n",
       "0 2021-01-01      144.846528  0.000158                     129.616667   \n",
       "1 2021-01-02      175.859722  0.000000                     129.602194   \n",
       "2 2021-01-03      180.373611  0.000000                     227.755062   \n",
       "3 2021-01-04      200.979861  0.000000                     242.225806   \n",
       "4 2021-01-05      208.151389  0.000950                     180.780569   \n",
       "\n",
       "   temperature         Rh  \n",
       "0     7.980080  65.526720  \n",
       "1     6.946224  67.800114  \n",
       "2     6.939307  61.903528  \n",
       "3     4.731242  46.378567  \n",
       "4     3.237838  61.608756  "
      ]
     },
     "execution_count": 10,
     "metadata": {},
     "output_type": "execute_result"
    }
   ],
   "source": [
    "data.head()"
   ]
  }
 ],
 "metadata": {
  "kernelspec": {
   "display_name": "dagshub",
   "language": "python",
   "name": "python3"
  },
  "language_info": {
   "codemirror_mode": {
    "name": "ipython",
    "version": 3
   },
   "file_extension": ".py",
   "mimetype": "text/x-python",
   "name": "python",
   "nbconvert_exporter": "python",
   "pygments_lexer": "ipython3",
   "version": "3.13.0"
  }
 },
 "nbformat": 4,
 "nbformat_minor": 2
}
